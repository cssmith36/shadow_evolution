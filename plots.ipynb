{
 "cells": [
  {
   "cell_type": "code",
   "execution_count": 21,
   "metadata": {},
   "outputs": [],
   "source": [
    "import numpy as np\n",
    "import jax\n",
    "import jax.numpy as jnp\n",
    "import matplotlib.pyplot as plt\n",
    "from matplotlib.lines import Line2D\n",
    "from shadow_evolution_learning.utils.operations import pX,pZ,pY\n",
    "from shadow_evolution_learning.shadow_sampling.shadow_loader import data_loader\n",
    "from shadow_evolution_learning.train import extract_params\n",
    "from shadow_evolution_learning.utils.network_utils import construct_exact_vals"
   ]
  },
  {
   "cell_type": "code",
   "execution_count": 13,
   "metadata": {},
   "outputs": [
    {
     "data": {
      "image/png": "[encoded data removed]",
      "text/plain": [
       "<Figure size 640x480 with 1 Axes>"
      ]
     },
     "metadata": {},
     "output_type": "display_data"
    }
   ],
   "source": [
    "max_b = [32,64,128,256,512]\n",
    "seconds = [50.146,88.445,164.078,316.08312368392944,618.539]\n",
    "plt.scatter(max_b,seconds)\n",
    "plt.xlabel('max batch')\n",
    "plt.ylabel('seconds')\n",
    "plt.show()"
   ]
  },
  {
   "cell_type": "code",
   "execution_count": 14,
   "metadata": {},
   "outputs": [],
   "source": [
    "path = '/users/csmith36/shadows/NNSHL/ising/results/periodic_actvfn/measurements=10000_k=10/start=0.5_dt=0.1_steps=10/index=2/max_hid=20_min_hid=5/lr=0.01'\n",
    "#print(path[:path.find('/index=')])\n",
    "path_update = path[:path.find('/index=')] + '/index=' + str(0)"
   ]
  },
  {
   "cell_type": "code",
   "execution_count": 15,
   "metadata": {},
   "outputs": [],
   "source": [
    "obs_0 = [-jnp.kron(pZ,jnp.eye(2)),jnp.kron(pY,pX)]\n",
    "obs_1 = [jnp.kron(jnp.eye(2),pX),jnp.kron(jnp.eye(2),pY)]\n",
    "obs_2 = [jnp.kron(pX,jnp.eye(2)),jnp.kron(pY,jnp.eye(2))]\n",
    "p_0 = jnp.kron(obs_0[0],obs_0[1])\n",
    "p_1 = jnp.kron(obs_1[0],obs_1[1])\n",
    "p_2 = jnp.kron(obs_2[0],obs_2[1])\n",
    "\n",
    "q_0 = jnp.kron(obs_0[1],obs_0[1])\n",
    "q_1 = jnp.kron(obs_1[1],obs_1[1])\n",
    "q_2 = jnp.kron(obs_2[1],obs_2[1])\n",
    "\n",
    "full_obs = [[p_0,q_0],[p_1,q_1],[p_2,q_2]]"
   ]
  },
  {
   "cell_type": "code",
   "execution_count": 22,
   "metadata": {},
   "outputs": [],
   "source": [
    "p_0_s = np.array([2,1,0]), np.array([0,2,3])\n",
    "p_1_s = np.array([0,1]), np.array([1,3])\n",
    "p_2_s = np.array([0,1]), np.array([0,2])\n",
    "\n",
    "q_0_s = np.array([1,0,1,0]), np.array([0,1,2,3])\n",
    "q_1_s = np.array([1,1]), np.array([1,3])\n",
    "q_2_s = np.array([1,1]), np.array([0,2])\n",
    "\n",
    "full_shadow_obs = [[p_0_s,q_0_s],[p_1_s,q_1_s],[p_2_s,q_2_s]]"
   ]
  },
  {
   "cell_type": "code",
   "execution_count": 64,
   "metadata": {},
   "outputs": [],
   "source": [
    "start = 0.5\n",
    "steps = 80\n",
    "dt = 0.01\n",
    "train_times = np.array([round(start + i*dt,4) for i in range(steps)])\n",
    "meas = 10000\n",
    "plot = False"
   ]
  },
  {
   "cell_type": "code",
   "execution_count": 82,
   "metadata": {},
   "outputs": [
    {
     "name": "stdout",
     "output_type": "stream",
     "text": [
      "(10, 10, 3)\n",
      "errors: 0.030451238 0.027588716\n",
      "mean of medians 0.08029436809768802\n",
      "median of medians 0.047994404311004435\n",
      "0.08029436809768802\n",
      "min_val_loss 0.089125206644737\n"
     ]
    }
   ],
   "source": [
    "vals = np.load('/users/csmith36/shadows/NNSHL/ising/ising_shadow_data/params.npy',allow_pickle=True)\n",
    "\n",
    "def load_training_results(path):\n",
    "    full_val_loss = []\n",
    "    full_coeffs = []\n",
    "    full_mindices = []\n",
    "    full_preds = []\n",
    "    shadow_means = []\n",
    "    pred_means = []\n",
    "    for val_ind in range(10):\n",
    "        mindices = []\n",
    "        mindices_ind = []\n",
    "        val_losses = []\n",
    "        val_coeffs = []\n",
    "        preds = []\n",
    "        minimums = []\n",
    "        val = vals[val_ind]\n",
    "        pXX = jnp.kron(pX,pX)\n",
    "        hamil = val[0]*pXX + val[1]*jnp.kron(pZ,jnp.eye(2)) + val[2]*jnp.kron(jnp.eye(2),pZ)\n",
    "        test_times = np.load('/users/csmith36/shadows/NNSHL/ising/results/periodic_actvfn/measurements=10000_k=10/start=0.5_dt=0.1_steps=10/index=0/max_hid=20_min_hid=5/lr=0.01/seed=0/test_times.npy',allow_pickle=True)\n",
    "        true_obs = construct_exact_vals(test_times,hamil,full_obs)\n",
    "        shadow_obs_p_ts, shadow_obs_q_ts = data_loader(train_times,meas,val_ind,full_shadow_obs,k=10)\n",
    "        #print(shadow_obs_p_ts.shape)\n",
    "        colors = ['teal','forestgreen','navy','magenta','skyblue','orange']\n",
    "        full = np.concatenate([shadow_obs_p_ts,shadow_obs_q_ts],axis=-1)\n",
    "        true_obs_comp = construct_exact_vals(train_times,hamil,full_obs).reshape((80,6))\n",
    "        shadow_means.append(jnp.mean(jnp.abs(full-true_obs_comp)))\n",
    "        if plot:\n",
    "            for w in range(6):\n",
    "                plt.plot(train_times,full[:,w],color=colors[w],linestyle='dotted')\n",
    "            #for w in range(3):\n",
    "            #    plt.scatter(train_times,shadow_obs_p_ts[:,w],color=colors[2*w])\n",
    "            #    plt.scatter(train_times,shadow_obs_q_ts[:,w],color=colors[2*w+1])\n",
    "            for w in range(6):\n",
    "                if w%2 == 0:\n",
    "                    plt.plot(test_times,true_obs.reshape(-1,6)[:,w],label='p'+str(w//2), color = colors[w])\n",
    "                else:\n",
    "                    plt.plot(test_times,true_obs.reshape(-1,6)[:,w],label='q'+str(w//2),color = colors[w])\n",
    "        #plt.show()\n",
    "        for seed in range(10):\n",
    "            path2 = path[:path.find('/index=')] + '/index=' + str(val_ind) + path[path.find('/max_'):] + '/seed='+str(seed)\n",
    "            test_times = np.load(path2+'/test_times.npy',allow_pickle=True)\n",
    "            coeff = np.load(path2+'/coeff_predicts.npy',allow_pickle=True)\n",
    "            val_loss = np.load(path2 + '/val_losses.npy',allow_pickle=True)\n",
    "            full_pred = np.load(path2+'/full_predicts.npy')\n",
    "            preds.append(full_pred)\n",
    "\n",
    "            index = np.argmin(np.mean(np.mean(val_loss,axis=1),axis=-1))\n",
    "            mean_ind = np.mean(val_loss,axis=-2)\n",
    "            min_val_loss_ind = np.argmin(mean_ind,axis=0)\n",
    "            mindices_ind.append(min_val_loss_ind)\n",
    "            mindices.append(index)\n",
    "            val_losses.append(np.min(np.mean(np.mean(val_loss,axis=1),axis=-1)))\n",
    "            coeff_updated = coeff[index]\n",
    "            #print(extract_params(full_pred[index],test_times[-2]-test_times[-3],len(test_times))-coeff_updated)\n",
    "            val_coeffs.append(np.median(coeff_updated/2,axis=-2)[np.array([0,2,1])])\n",
    "            minimums.append(np.min(np.sum(np.abs(coeff[:,:,np.array([0,2,1])]/2 - vals[val_ind]),axis=(2))))\n",
    "        full_val_loss.append(val_losses)\n",
    "        full_coeffs.append(val_coeffs)\n",
    "        full_mindices.append(mindices)\n",
    "        full_preds.append(preds)\n",
    "        \n",
    "        #print(np.array(mindices_ind[0]).shape)\n",
    "        #print(np.array(preds).shape)\n",
    "        #print(np.array(preds)[0].shape)\n",
    "        tmp = np.array([np.array(preds)[0,np.array(mindices_ind)[0,w],:,w] for w in range(6)])\n",
    "        #print(tmp.shape)\n",
    "        if plot:\n",
    "            for w in range(6):\n",
    "                if w%2 == 0:\n",
    "                    plt.plot(test_times,np.array(preds)[0,np.array(mindices_ind)[0,w],:,w], '--',label='p'+str(w//2),color = colors[w])\n",
    "                else:\n",
    "                    plt.plot(test_times,np.array(preds)[0,np.array(mindices_ind)[0,w],:,w], '--',label='q'+str(w//2),color = colors[w])\n",
    "            line_s = Line2D([0,1],[0,1],linestyle='-', color='black')\n",
    "            line_dash = Line2D([0,1],[0,1],linestyle='--', color='black')\n",
    "            line_dotted = Line2D([0,1],[0,1],linestyle='dotted', color='black')\n",
    "            plt.legend([line_s,line_dash,line_dotted],['True Value','Predicted Value','Shadow Value'])\n",
    "            plt.show()\n",
    "        pred_means.append(jnp.mean(jnp.array([jnp.abs(np.array(preds)[0,np.array(mindices_ind)[0,w],:,w] - true_obs.reshape(-1,6)[:,w]) for w in range(6)] )))\n",
    "    full_coeffs = np.array(full_coeffs)\n",
    "    full_val_loss = np.array(full_val_loss)\n",
    "    full_mindices = np.array(full_mindices)\n",
    "    index2 = np.argmin(full_val_loss,axis=-2)\n",
    "    min_errs = np.mean(np.abs(full_coeffs.transpose(1,0,2)[index2,np.array([i for i in range(10)])]-vals[:10]))\n",
    "\n",
    "    \n",
    "\n",
    "    meds = np.median(full_coeffs,axis=-2)\n",
    "\n",
    "    print(full_coeffs.shape)\n",
    "    print('errors:',jnp.mean(np.array(shadow_means)),jnp.mean(np.array(pred_means)))\n",
    "    print('mean of medians',np.mean(np.abs(meds-vals[:10]),axis=-1))\n",
    "    print('median of medians',np.mean(np.abs(meds-vals[:10])))\n",
    "    print(np.mean(np.abs(meds-vals[:10])))\n",
    "    print('min_val_loss',min_errs)\n",
    "    return full_val_loss, full_coeffs, full_mindices\n",
    "full_val_loss, full_coeffs, full_mindices = load_training_results(path)\n"
   ]
  },
  {
   "cell_type": "code",
   "execution_count": 78,
   "metadata": {},
   "outputs": [
    {
     "name": "stdout",
     "output_type": "stream",
     "text": [
      "(10, 10, 3)\n",
      "0.0965847425036982\n"
     ]
    }
   ],
   "source": [
    "print(full_coeffs.shape)\n",
    "\n",
    "print(np.mean(np.abs(full_coeffs.transpose(1,0,2)-vals)))"
   ]
  }
 ],
 "metadata": {
  "kernelspec": {
   "display_name": "Python 3 (ipykernel)",
   "language": "python",
   "name": "python3"
  },
  "language_info": {
   "codemirror_mode": {
    "name": "ipython",
    "version": 3
   },
   "file_extension": ".py",
   "mimetype": "text/x-python",
   "name": "python",
   "nbconvert_exporter": "python",
   "pygments_lexer": "ipython3",
   "version": "3.10.8"
  }
 },
 "nbformat": 4,
 "nbformat_minor": 2
}
